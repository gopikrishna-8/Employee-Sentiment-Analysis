{
 "cells": [
  {
   "cell_type": "code",
   "execution_count": 1,
   "id": "5b53179c",
   "metadata": {},
   "outputs": [
    {
     "name": "stdout",
     "output_type": "stream",
     "text": [
      "Index(['Subject', 'body', 'date', 'from'], dtype='object')\n",
      "                                        Subject  \\\n",
      "0                          EnronOptions Update!   \n",
      "1                                  (No Subject)   \n",
      "2  Phone Screen  Interview - Shannon L. Burnham   \n",
      "3                         RE: My new work email   \n",
      "4                                           Bet   \n",
      "\n",
      "                                                body       date  \\\n",
      "0  EnronOptions Announcement\\n\\n\\nWe have updated...  5/10/2010   \n",
      "1  Marc,\\n\\nUnfortunately, today is not going to ...  7/29/2010   \n",
      "2  When: Wednesday, June 06, 2001 10:00 AM-11:00 ...  7/25/2011   \n",
      "3  we were thinking papasitos (we can meet somewh...  3/25/2010   \n",
      "4  Since you never gave me the $20 for the last t...  5/21/2011   \n",
      "\n",
      "                      from  \n",
      "0     sally.beck@enron.com  \n",
      "1      eric.bass@enron.com  \n",
      "2     sally.beck@enron.com  \n",
      "3  johnny.palmer@enron.com  \n",
      "4  lydia.delgado@enron.com  \n"
     ]
    }
   ],
   "source": [
    "import pandas as pd\n",
    "\n",
    "# Load dataset\n",
    "df = pd.read_csv(\"test.csv\")\n",
    "\n",
    "# Show column names and first few rows\n",
    "print(df.columns)\n",
    "print(df.head())"
   ]
  },
  {
   "cell_type": "code",
   "execution_count": 3,
   "id": "b98b65bd",
   "metadata": {},
   "outputs": [
    {
     "name": "stdout",
     "output_type": "stream",
     "text": [
      "Collecting textblob\n",
      "  Downloading textblob-0.19.0-py3-none-any.whl (624 kB)\n",
      "Collecting nltk>=3.9\n",
      "  Downloading nltk-3.9.1-py3-none-any.whl (1.5 MB)\n",
      "Requirement already satisfied: joblib in c:\\users\\gopi krishna\\anaconda3\\lib\\site-packages (from nltk>=3.9->textblob) (1.1.0)\n",
      "Requirement already satisfied: click in c:\\users\\gopi krishna\\anaconda3\\lib\\site-packages (from nltk>=3.9->textblob) (8.0.3)\n",
      "Requirement already satisfied: tqdm in c:\\users\\gopi krishna\\anaconda3\\lib\\site-packages (from nltk>=3.9->textblob) (4.62.3)\n",
      "Requirement already satisfied: regex>=2021.8.3 in c:\\users\\gopi krishna\\anaconda3\\lib\\site-packages (from nltk>=3.9->textblob) (2021.8.3)\n",
      "Requirement already satisfied: colorama in c:\\users\\gopi krishna\\anaconda3\\lib\\site-packages (from click->nltk>=3.9->textblob) (0.4.4)\n",
      "Installing collected packages: nltk, textblob\n",
      "  Attempting uninstall: nltk\n",
      "    Found existing installation: nltk 3.6.5\n",
      "    Uninstalling nltk-3.6.5:\n",
      "      Successfully uninstalled nltk-3.6.5\n",
      "Successfully installed nltk-3.9.1 textblob-0.19.0\n",
      "Note: you may need to restart the kernel to use updated packages.\n"
     ]
    }
   ],
   "source": [
    "pip install textblob"
   ]
  },
  {
   "cell_type": "code",
   "execution_count": 7,
   "id": "60c115b1",
   "metadata": {},
   "outputs": [],
   "source": [
    "import os\n",
    "\n",
    "os.makedirs(\"visualization\", exist_ok=True)"
   ]
  },
  {
   "cell_type": "code",
   "execution_count": 14,
   "id": "bb06c9fc",
   "metadata": {},
   "outputs": [
    {
     "name": "stdout",
     "output_type": "stream",
     "text": [
      "Data preview:\n",
      "                                        Subject  \\\n",
      "0                          EnronOptions Update!   \n",
      "1                                  (No Subject)   \n",
      "2  Phone Screen  Interview - Shannon L. Burnham   \n",
      "3                         RE: My new work email   \n",
      "4                                           Bet   \n",
      "\n",
      "                                                body       date  \\\n",
      "0  EnronOptions Announcement\\n\\n\\nWe have updated...  5/10/2010   \n",
      "1  Marc,\\n\\nUnfortunately, today is not going to ...  7/29/2010   \n",
      "2  When: Wednesday, June 06, 2001 10:00 AM-11:00 ...  7/25/2011   \n",
      "3  we were thinking papasitos (we can meet somewh...  3/25/2010   \n",
      "4  Since you never gave me the $20 for the last t...  5/21/2011   \n",
      "\n",
      "                      from  \n",
      "0     sally.beck@enron.com  \n",
      "1      eric.bass@enron.com  \n",
      "2     sally.beck@enron.com  \n",
      "3  johnny.palmer@enron.com  \n",
      "4  lydia.delgado@enron.com  \n",
      "\n",
      "Data info:\n",
      "<class 'pandas.core.frame.DataFrame'>\n",
      "RangeIndex: 2191 entries, 0 to 2190\n",
      "Data columns (total 4 columns):\n",
      " #   Column   Non-Null Count  Dtype \n",
      "---  ------   --------------  ----- \n",
      " 0   Subject  2191 non-null   object\n",
      " 1   body     2191 non-null   object\n",
      " 2   date     2191 non-null   object\n",
      " 3   from     2191 non-null   object\n",
      "dtypes: object(4)\n",
      "memory usage: 68.6+ KB\n",
      "None\n",
      "\n",
      "Sentiment label distribution:\n",
      "Neutral     1054\n",
      "Positive     973\n",
      "Negative     164\n",
      "Name: Sentiment, dtype: int64\n",
      "\n",
      "Top 3 Positive Employees for 2011-12\n",
      "                         from    Month  Score\n",
      "143   kayne.coulter@enron.com  2011-12      5\n",
      "191  patti.thompson@enron.com  2011-12      5\n",
      "71        eric.bass@enron.com  2011-12      4\n",
      "\n",
      "Top 3 Negative Employees for 2011-12\n",
      "                            from    Month  Score\n",
      "23   bobette.riner@ipgdirect.com  2011-12      0\n",
      "95         john.arnold@enron.com  2011-12      2\n",
      "119      johnny.palmer@enron.com  2011-12      2\n",
      "\n",
      "Employees flagged as flight risk:\n",
      "['bobette.riner@ipgdirect.com', 'john.arnold@enron.com', 'johnny.palmer@enron.com', 'lydia.delgado@enron.com', 'patti.thompson@enron.com', 'rhonda.denton@enron.com', 'sally.beck@enron.com']\n",
      "\n",
      "Model Evaluation:\n",
      "MSE: 3.967834417472819\n",
      "R2 Score: 0.4292026412426715\n"
     ]
    },
    {
     "data": {
      "image/png": "[encoded data removed]",
      "text/plain": [
       "<Figure size 432x288 with 1 Axes>"
      ]
     },
     "metadata": {
      "needs_background": "light"
     },
     "output_type": "display_data"
    },
    {
     "data": {
      "image/png": "[encoded data removed]",
      "text/plain": [
       "<Figure size 864x432 with 1 Axes>"
      ]
     },
     "metadata": {
      "needs_background": "light"
     },
     "output_type": "display_data"
    },
    {
     "data": {
      "image/png": "[encoded data removed]",
      "text/plain": [
       "<Figure size 576x432 with 1 Axes>"
      ]
     },
     "metadata": {
      "needs_background": "light"
     },
     "output_type": "display_data"
    }
   ],
   "source": [
    "# Employee Sentiment Analysis Project\n",
    "\n",
    "# SECTION 1: Imports and Initial Setup\n",
    "import pandas as pd\n",
    "import numpy as np\n",
    "import matplotlib.pyplot as plt\n",
    "import seaborn as sns\n",
    "from sklearn.model_selection import train_test_split\n",
    "from sklearn.linear_model import LinearRegression\n",
    "from sklearn.metrics import mean_squared_error, r2_score\n",
    "from textblob import TextBlob\n",
    "import os\n",
    "\n",
    "# Load dataset\n",
    "df = pd.read_csv(\"test.csv\")\n",
    "\n",
    "# Display initial info\n",
    "print(\"Data preview:\")\n",
    "print(df.head())\n",
    "print(\"\\nData info:\")\n",
    "print(df.info())\n",
    "\n",
    "# SECTION 2: Sentiment Labeling using TextBlob (Task 1)\n",
    "def get_sentiment(text):\n",
    "    blob = TextBlob(str(text))\n",
    "    polarity = blob.sentiment.polarity\n",
    "    if polarity > 0.1:\n",
    "        return \"Positive\"\n",
    "    elif polarity < -0.1:\n",
    "        return \"Negative\"\n",
    "    else:\n",
    "        return \"Neutral\"\n",
    "\n",
    "df[\"Sentiment\"] = df[\"body\"].apply(get_sentiment)\n",
    "print(\"\\nSentiment label distribution:\")\n",
    "print(df[\"Sentiment\"].value_counts())\n",
    "\n",
    "# Save this labeled dataset\n",
    "labeled_df = df.copy()\n",
    "\n",
    "# SECTION 3: Exploratory Data Analysis (EDA) (Task 2)\n",
    "df[\"date\"] = pd.to_datetime(df[\"date\"])\n",
    "sns.countplot(data=df, x=\"Sentiment\")\n",
    "plt.title(\"Distribution of Sentiment Labels\")\n",
    "plt.savefig(\"visualization/sentiment_distribution.png\")\n",
    "\n",
    "# Monthly trends\n",
    "monthly_sentiment = df.groupby(df[\"date\"].dt.to_period(\"M\"))['Sentiment'].value_counts().unstack().fillna(0)\n",
    "monthly_sentiment.plot(kind=\"bar\", stacked=True, figsize=(12,6))\n",
    "plt.title(\"Monthly Sentiment Trends\")\n",
    "plt.savefig(\"visualization/monthly_sentiment.png\")\n",
    "\n",
    "# SECTION 4: Employee Score Calculation (Task 3)\n",
    "sentiment_score = {\"Positive\": 1, \"Negative\": -1, \"Neutral\": 0}\n",
    "df[\"Score\"] = df[\"Sentiment\"].map(sentiment_score)\n",
    "df[\"Month\"] = df[\"date\"].dt.to_period(\"M\")\n",
    "monthly_scores = df.groupby([\"from\", \"Month\"])[\"Score\"].sum().reset_index()\n",
    "\n",
    "# SECTION 5: Employee Ranking (Task 4)\n",
    "def rank_employees(month):\n",
    "    subset = monthly_scores[monthly_scores[\"Month\"] == month]\n",
    "    top_positive = subset.sort_values(by=[\"Score\", \"from\"], ascending=[False, True]).head(3)\n",
    "    top_negative = subset.sort_values(by=[\"Score\", \"from\"]).head(3)\n",
    "    return top_positive, top_negative\n",
    "\n",
    "# Example for most recent month\n",
    "recent_month = monthly_scores[\"Month\"].max()\n",
    "positive_top, negative_top = rank_employees(recent_month)\n",
    "\n",
    "print(\"\\nTop 3 Positive Employees for\", recent_month)\n",
    "print(positive_top)\n",
    "\n",
    "print(\"\\nTop 3 Negative Employees for\", recent_month)\n",
    "print(negative_top)\n",
    "\n",
    "# SECTION 6: Flight Risk Detection (Task 5)\n",
    "df[\"Negative_Flag\"] = df[\"Sentiment\"] == \"Negative\"\n",
    "df = df.sort_values(by=[\"from\", \"date\"])\n",
    "\n",
    "flight_risks = []\n",
    "for emp, emp_df in df.groupby(\"from\"):\n",
    "    dates = emp_df[emp_df[\"Negative_Flag\"]][\"date\"].tolist()\n",
    "    for i in range(len(dates) - 3):\n",
    "        if (dates[i + 3] - dates[i]).days <= 30:\n",
    "            flight_risks.append(emp)\n",
    "            break\n",
    "\n",
    "flight_risks = sorted(set(flight_risks))\n",
    "print(\"\\nEmployees flagged as flight risk:\")\n",
    "print(flight_risks)\n",
    "\n",
    "# SECTION 7: Predictive Modeling (Task 6)\n",
    "# Feature: number of messages per month per employee\n",
    "message_counts = df.groupby([\"from\", \"Month\"]).size().reset_index(name=\"Msg_Count\")\n",
    "predict_df = pd.merge(monthly_scores, message_counts, on=[\"from\", \"Month\"])\n",
    "\n",
    "# Convert month to ordinal\n",
    "predict_df[\"Month_Ordinal\"] = predict_df[\"Month\"].apply(lambda x: x.to_timestamp().toordinal())\n",
    "\n",
    "X = predict_df[[\"Month_Ordinal\", \"Msg_Count\"]]\n",
    "y = predict_df[\"Score\"]\n",
    "\n",
    "X_train, X_test, y_train, y_test = train_test_split(X, y, test_size=0.2, random_state=42)\n",
    "\n",
    "model = LinearRegression()\n",
    "model.fit(X_train, y_train)\n",
    "y_pred = model.predict(X_test)\n",
    "\n",
    "print(\"\\nModel Evaluation:\")\n",
    "print(\"MSE:\", mean_squared_error(y_test, y_pred))\n",
    "print(\"R2 Score:\", r2_score(y_test, y_pred))\n",
    "\n",
    "plt.figure(figsize=(8,6))\n",
    "plt.scatter(y_test, y_pred)\n",
    "plt.xlabel(\"Actual Sentiment Score\")\n",
    "plt.ylabel(\"Predicted Score\")\n",
    "plt.title(\"Linear Regression Performance\")\n",
    "plt.savefig(\"visualization/model_performance.png\")\n"
   ]
  }
 ],
 "metadata": {
  "kernelspec": {
   "display_name": "Python 3 (ipykernel)",
   "language": "python",
   "name": "python3"
  },
  "language_info": {
   "codemirror_mode": {
    "name": "ipython",
    "version": 3
   },
   "file_extension": ".py",
   "mimetype": "text/x-python",
   "name": "python",
   "nbconvert_exporter": "python",
   "pygments_lexer": "ipython3",
   "version": "3.9.7"
  }
 },
 "nbformat": 4,
 "nbformat_minor": 5
}
